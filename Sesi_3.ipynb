{
 "cells": [
  {
   "cell_type": "markdown",
   "metadata": {},
   "source": [
    "# Sesi 3\n",
    "\n",
    "- Function\n",
    "- Module\n",
    "- Packages"
   ]
  },
  {
   "cell_type": "markdown",
   "metadata": {},
   "source": [
    "## Function"
   ]
  },
  {
   "cell_type": "code",
   "execution_count": null,
   "metadata": {},
   "outputs": [],
   "source": [
    "# Defining a Function\n",
    "\n",
    "def luas(p, l):\n",
    "    \"Function untuk menghitung luas\"\n",
    "    print(p * l)"
   ]
  },
  {
   "cell_type": "code",
   "execution_count": null,
   "metadata": {},
   "outputs": [],
   "source": [
    "def volume(s):\n",
    "    print(s * s * s)\n",
    "    \n",
    "volume(8)"
   ]
  },
  {
   "cell_type": "code",
   "execution_count": 3,
   "metadata": {},
   "outputs": [
    {
     "name": "stdout",
     "output_type": "stream",
     "text": [
      "Help on function luas in module __main__:\n",
      "\n",
      "luas(p, l)\n",
      "    Function untuk menghitung luas\n",
      "\n"
     ]
    }
   ],
   "source": [
    "help(luas)"
   ]
  },
  {
   "cell_type": "code",
   "execution_count": 4,
   "metadata": {},
   "outputs": [
    {
     "name": "stdout",
     "output_type": "stream",
     "text": [
      "16\n"
     ]
    }
   ],
   "source": [
    "luas(8, 2)"
   ]
  },
  {
   "cell_type": "code",
   "execution_count": 5,
   "metadata": {},
   "outputs": [],
   "source": [
    "def printme(a):\n",
    "    \"This prints a passed string into this function\"\n",
    "    print(a)"
   ]
  },
  {
   "cell_type": "code",
   "execution_count": 6,
   "metadata": {},
   "outputs": [
    {
     "name": "stdout",
     "output_type": "stream",
     "text": [
      "Im first call to user defined function!\n"
     ]
    }
   ],
   "source": [
    "printme('Im first call to user defined function!')"
   ]
  },
  {
   "cell_type": "code",
   "execution_count": 7,
   "metadata": {},
   "outputs": [
    {
     "name": "stdout",
     "output_type": "stream",
     "text": [
      "a\n"
     ]
    }
   ],
   "source": [
    "# Function arguments\n",
    "\n",
    "# Required Arguments\n",
    "printme('a')"
   ]
  },
  {
   "cell_type": "code",
   "execution_count": 8,
   "metadata": {},
   "outputs": [
    {
     "name": "stdout",
     "output_type": "stream",
     "text": [
      "16\n"
     ]
    }
   ],
   "source": [
    "luas(8, 2)"
   ]
  },
  {
   "cell_type": "code",
   "execution_count": 9,
   "metadata": {},
   "outputs": [
    {
     "name": "stdout",
     "output_type": "stream",
     "text": [
      "16\n"
     ]
    }
   ],
   "source": [
    "# Keyword Arguments\n",
    "\n",
    "luas(p = 8, l = 2)"
   ]
  },
  {
   "cell_type": "code",
   "execution_count": 10,
   "metadata": {},
   "outputs": [
    {
     "name": "stdout",
     "output_type": "stream",
     "text": [
      "16\n"
     ]
    }
   ],
   "source": [
    "luas(l = 2, p = 8)"
   ]
  },
  {
   "cell_type": "code",
   "execution_count": 11,
   "metadata": {},
   "outputs": [],
   "source": [
    "def printinfo(name, age):\n",
    "    \"This prints passed info into this function\"\n",
    "    print('Name: ', name)\n",
    "    print('Age: ', age)"
   ]
  },
  {
   "cell_type": "code",
   "execution_count": 12,
   "metadata": {},
   "outputs": [
    {
     "name": "stdout",
     "output_type": "stream",
     "text": [
      "Name:  Raka\n",
      "Age:  22\n"
     ]
    }
   ],
   "source": [
    "printinfo('Raka', 22)"
   ]
  },
  {
   "cell_type": "code",
   "execution_count": 13,
   "metadata": {},
   "outputs": [
    {
     "name": "stdout",
     "output_type": "stream",
     "text": [
      "Name:  Raka\n",
      "Age:  22\n"
     ]
    }
   ],
   "source": [
    "printinfo(name = 'Raka', age = 22)"
   ]
  },
  {
   "cell_type": "code",
   "execution_count": 14,
   "metadata": {},
   "outputs": [
    {
     "name": "stdout",
     "output_type": "stream",
     "text": [
      "Name:  Raka\n",
      "Age:  22\n"
     ]
    }
   ],
   "source": [
    "printinfo(age = 22, name = 'Raka')"
   ]
  },
  {
   "cell_type": "code",
   "execution_count": 15,
   "metadata": {},
   "outputs": [],
   "source": [
    "# Default Arguments\n",
    "\n",
    "def printinfo(name = 'Raka', age = 22):\n",
    "    \"This prints passed info into this function\"\n",
    "    print('Name: ', name)\n",
    "    print('Age: ', age)"
   ]
  },
  {
   "cell_type": "code",
   "execution_count": 16,
   "metadata": {},
   "outputs": [
    {
     "name": "stdout",
     "output_type": "stream",
     "text": [
      "Name:  Ardhi\n",
      "Age:  22\n"
     ]
    }
   ],
   "source": [
    "printinfo('Ardhi')"
   ]
  },
  {
   "cell_type": "code",
   "execution_count": 17,
   "metadata": {},
   "outputs": [
    {
     "name": "stdout",
     "output_type": "stream",
     "text": [
      "Name:  Raka\n",
      "Age:  50\n"
     ]
    }
   ],
   "source": [
    "printinfo('Raka', 50)"
   ]
  },
  {
   "cell_type": "code",
   "execution_count": 18,
   "metadata": {},
   "outputs": [
    {
     "name": "stdout",
     "output_type": "stream",
     "text": [
      "Name:  Raka\n",
      "Age:  22\n"
     ]
    }
   ],
   "source": [
    "printinfo()"
   ]
  },
  {
   "cell_type": "code",
   "execution_count": 19,
   "metadata": {},
   "outputs": [],
   "source": [
    "# Variable-length arguments\n",
    "\n",
    "def printinfo(arg1, *arg2):\n",
    "    \"Prints variable passed arguments\"\n",
    "    print('Output is: ')\n",
    "    print(arg1)\n",
    "    for var in arg2:\n",
    "        print(var)"
   ]
  },
  {
   "cell_type": "code",
   "execution_count": 20,
   "metadata": {},
   "outputs": [
    {
     "name": "stdout",
     "output_type": "stream",
     "text": [
      "Output is: \n",
      "1\n"
     ]
    }
   ],
   "source": [
    "printinfo(1)"
   ]
  },
  {
   "cell_type": "code",
   "execution_count": 21,
   "metadata": {},
   "outputs": [
    {
     "name": "stdout",
     "output_type": "stream",
     "text": [
      "Output is: \n",
      "1\n",
      "2\n",
      "3\n",
      "4\n",
      "5\n",
      "Raka\n"
     ]
    }
   ],
   "source": [
    "printinfo(1, 2, 3, 4, 5, 'Raka')"
   ]
  },
  {
   "cell_type": "code",
   "execution_count": 22,
   "metadata": {},
   "outputs": [],
   "source": [
    "# Anonymous Function"
   ]
  },
  {
   "cell_type": "code",
   "execution_count": 23,
   "metadata": {},
   "outputs": [],
   "source": [
    "sum = lambda var1, var2: var1 + var2"
   ]
  },
  {
   "cell_type": "code",
   "execution_count": 24,
   "metadata": {},
   "outputs": [
    {
     "data": {
      "text/plain": [
       "3"
      ]
     },
     "execution_count": 24,
     "metadata": {},
     "output_type": "execute_result"
    }
   ],
   "source": [
    "sum(1, 2)"
   ]
  },
  {
   "cell_type": "code",
   "execution_count": 25,
   "metadata": {},
   "outputs": [
    {
     "name": "stdout",
     "output_type": "stream",
     "text": [
      "Value of total:  3\n"
     ]
    }
   ],
   "source": [
    "print('Value of total: ', sum(1, 2))"
   ]
  },
  {
   "cell_type": "code",
   "execution_count": 26,
   "metadata": {},
   "outputs": [],
   "source": [
    "# Return Statement\n",
    "\n",
    "varLuar = 10\n",
    "\n",
    "def sum(arg1, arg2):\n",
    "    total = arg1 +arg2\n",
    "    total2 = total + arg1\n",
    "    print('Inside the function', total)\n",
    "    return total2\n",
    "    "
   ]
  },
  {
   "cell_type": "code",
   "execution_count": 27,
   "metadata": {},
   "outputs": [
    {
     "name": "stdout",
     "output_type": "stream",
     "text": [
      "Inside the function 30\n"
     ]
    },
    {
     "data": {
      "text/plain": [
       "40"
      ]
     },
     "execution_count": 27,
     "metadata": {},
     "output_type": "execute_result"
    }
   ],
   "source": [
    "sum(10, 20)"
   ]
  },
  {
   "cell_type": "code",
   "execution_count": 28,
   "metadata": {},
   "outputs": [],
   "source": [
    "# Scope of Variable\n",
    "\n",
    "varLuar = 10 # Global Variable\n",
    "\n",
    "def sum(arg1, arg2):\n",
    "    varDalam = 20 # Local Variable\n",
    "    total = arg1 +arg2\n",
    "    total2 = total + arg1\n",
    "    print('Inside the function', total)\n",
    "    return total2"
   ]
  },
  {
   "cell_type": "code",
   "execution_count": 29,
   "metadata": {},
   "outputs": [],
   "source": [
    "jumlahKucing = 20 # Global Variable\n",
    "\n",
    "def jumlahHewan():\n",
    "    jumlahAnjing = 30 # Local Variable\n",
    "    return jumlahKucing + jumlahAnjing\n",
    "\n",
    "def jumlahHewanLain():\n",
    "    jumlahKelinci = 40 # Local Variable\n",
    "    return jumlahKelinci + jumlahAnjing"
   ]
  },
  {
   "cell_type": "code",
   "execution_count": 30,
   "metadata": {},
   "outputs": [
    {
     "data": {
      "text/plain": [
       "50"
      ]
     },
     "execution_count": 30,
     "metadata": {},
     "output_type": "execute_result"
    }
   ],
   "source": [
    "jumlahHewan()"
   ]
  },
  {
   "cell_type": "code",
   "execution_count": 31,
   "metadata": {},
   "outputs": [
    {
     "ename": "NameError",
     "evalue": "name 'jumlahAnjing' is not defined",
     "output_type": "error",
     "traceback": [
      "\u001b[1;31m---------------------------------------------------------------------\u001b[0m",
      "\u001b[1;31mNameError\u001b[0m                           Traceback (most recent call last)",
      "\u001b[1;32m<ipython-input-31-7eeb56c5bf04>\u001b[0m in \u001b[0;36m<module>\u001b[1;34m\u001b[0m\n\u001b[1;32m----> 1\u001b[1;33m \u001b[0mjumlahHewanLain\u001b[0m\u001b[1;33m(\u001b[0m\u001b[1;33m)\u001b[0m\u001b[1;33m\u001b[0m\u001b[1;33m\u001b[0m\u001b[0m\n\u001b[0m",
      "\u001b[1;32m<ipython-input-29-2239f3d4ef34>\u001b[0m in \u001b[0;36mjumlahHewanLain\u001b[1;34m()\u001b[0m\n\u001b[0;32m      7\u001b[0m \u001b[1;32mdef\u001b[0m \u001b[0mjumlahHewanLain\u001b[0m\u001b[1;33m(\u001b[0m\u001b[1;33m)\u001b[0m\u001b[1;33m:\u001b[0m\u001b[1;33m\u001b[0m\u001b[1;33m\u001b[0m\u001b[0m\n\u001b[0;32m      8\u001b[0m     \u001b[0mjumlahKelinci\u001b[0m \u001b[1;33m=\u001b[0m \u001b[1;36m40\u001b[0m \u001b[1;31m# Local Variable\u001b[0m\u001b[1;33m\u001b[0m\u001b[1;33m\u001b[0m\u001b[0m\n\u001b[1;32m----> 9\u001b[1;33m     \u001b[1;32mreturn\u001b[0m \u001b[0mjumlahKelinci\u001b[0m \u001b[1;33m+\u001b[0m \u001b[0mjumlahAnjing\u001b[0m\u001b[1;33m\u001b[0m\u001b[1;33m\u001b[0m\u001b[0m\n\u001b[0m",
      "\u001b[1;31mNameError\u001b[0m: name 'jumlahAnjing' is not defined"
     ]
    }
   ],
   "source": [
    "jumlahHewanLain()"
   ]
  },
  {
   "cell_type": "markdown",
   "metadata": {},
   "source": [
    "## Modules"
   ]
  },
  {
   "cell_type": "code",
   "execution_count": 32,
   "metadata": {},
   "outputs": [],
   "source": [
    "import mod"
   ]
  },
  {
   "cell_type": "code",
   "execution_count": 33,
   "metadata": {},
   "outputs": [
    {
     "name": "stdout",
     "output_type": "stream",
     "text": [
      "Hacktiv8 Python For Data Science x GIT\n"
     ]
    }
   ],
   "source": [
    "print(mod.s)"
   ]
  },
  {
   "cell_type": "code",
   "execution_count": 34,
   "metadata": {},
   "outputs": [
    {
     "data": {
      "text/plain": [
       "[100, 200, 300]"
      ]
     },
     "execution_count": 34,
     "metadata": {},
     "output_type": "execute_result"
    }
   ],
   "source": [
    "mod.a"
   ]
  },
  {
   "cell_type": "code",
   "execution_count": 35,
   "metadata": {},
   "outputs": [
    {
     "name": "stdout",
     "output_type": "stream",
     "text": [
      "Print from module\n"
     ]
    }
   ],
   "source": [
    "mod.printme('Print from module')"
   ]
  },
  {
   "cell_type": "code",
   "execution_count": 36,
   "metadata": {},
   "outputs": [
    {
     "data": {
      "text/plain": [
       "['C:\\\\Users\\\\rakay\\\\Desktop\\\\Hacktiv8_Python',\n",
       " 'C:\\\\Users\\\\rakay\\\\AppData\\\\Local\\\\Programs\\\\Python\\\\Python38\\\\python38.zip',\n",
       " 'C:\\\\Users\\\\rakay\\\\AppData\\\\Local\\\\Programs\\\\Python\\\\Python38\\\\DLLs',\n",
       " 'C:\\\\Users\\\\rakay\\\\AppData\\\\Local\\\\Programs\\\\Python\\\\Python38\\\\lib',\n",
       " 'C:\\\\Users\\\\rakay\\\\AppData\\\\Local\\\\Programs\\\\Python\\\\Python38',\n",
       " '',\n",
       " 'C:\\\\Users\\\\rakay\\\\AppData\\\\Local\\\\Programs\\\\Python\\\\Python38\\\\lib\\\\site-packages',\n",
       " 'C:\\\\Users\\\\rakay\\\\AppData\\\\Local\\\\Programs\\\\Python\\\\Python38\\\\lib\\\\site-packages\\\\win32',\n",
       " 'C:\\\\Users\\\\rakay\\\\AppData\\\\Local\\\\Programs\\\\Python\\\\Python38\\\\lib\\\\site-packages\\\\win32\\\\lib',\n",
       " 'C:\\\\Users\\\\rakay\\\\AppData\\\\Local\\\\Programs\\\\Python\\\\Python38\\\\lib\\\\site-packages\\\\Pythonwin',\n",
       " 'C:\\\\Users\\\\rakay\\\\AppData\\\\Local\\\\Programs\\\\Python\\\\Python38\\\\lib\\\\site-packages\\\\IPython\\\\extensions',\n",
       " 'C:\\\\Users\\\\rakay\\\\.ipython']"
      ]
     },
     "execution_count": 36,
     "metadata": {},
     "output_type": "execute_result"
    }
   ],
   "source": [
    "import sys\n",
    "sys.path"
   ]
  },
  {
   "cell_type": "code",
   "execution_count": 37,
   "metadata": {},
   "outputs": [],
   "source": [
    "# Import Statement"
   ]
  },
  {
   "cell_type": "code",
   "execution_count": 39,
   "metadata": {},
   "outputs": [],
   "source": [
    "from mod import s, printme"
   ]
  },
  {
   "cell_type": "code",
   "execution_count": 40,
   "metadata": {},
   "outputs": [
    {
     "data": {
      "text/plain": [
       "'Hacktiv8 Python For Data Science x GIT'"
      ]
     },
     "execution_count": 40,
     "metadata": {},
     "output_type": "execute_result"
    }
   ],
   "source": [
    "s"
   ]
  },
  {
   "cell_type": "code",
   "execution_count": 41,
   "metadata": {},
   "outputs": [
    {
     "name": "stdout",
     "output_type": "stream",
     "text": [
      "from module\n"
     ]
    }
   ],
   "source": [
    "printme('from module')"
   ]
  },
  {
   "cell_type": "code",
   "execution_count": 42,
   "metadata": {},
   "outputs": [
    {
     "ename": "NameError",
     "evalue": "name 'a' is not defined",
     "output_type": "error",
     "traceback": [
      "\u001b[1;31m---------------------------------------------------------------------\u001b[0m",
      "\u001b[1;31mNameError\u001b[0m                           Traceback (most recent call last)",
      "\u001b[1;32m<ipython-input-42-3f786850e387>\u001b[0m in \u001b[0;36m<module>\u001b[1;34m\u001b[0m\n\u001b[1;32m----> 1\u001b[1;33m \u001b[0ma\u001b[0m\u001b[1;33m\u001b[0m\u001b[1;33m\u001b[0m\u001b[0m\n\u001b[0m",
      "\u001b[1;31mNameError\u001b[0m: name 'a' is not defined"
     ]
    }
   ],
   "source": [
    "a"
   ]
  },
  {
   "cell_type": "code",
   "execution_count": 43,
   "metadata": {},
   "outputs": [],
   "source": [
    "from mod import s as string"
   ]
  },
  {
   "cell_type": "code",
   "execution_count": 44,
   "metadata": {},
   "outputs": [
    {
     "data": {
      "text/plain": [
       "'Hacktiv8 Python For Data Science x GIT'"
      ]
     },
     "execution_count": 44,
     "metadata": {},
     "output_type": "execute_result"
    }
   ],
   "source": [
    "string"
   ]
  },
  {
   "cell_type": "code",
   "execution_count": 45,
   "metadata": {},
   "outputs": [],
   "source": [
    "import mod as my_module"
   ]
  },
  {
   "cell_type": "code",
   "execution_count": 46,
   "metadata": {},
   "outputs": [
    {
     "data": {
      "text/plain": [
       "'Hacktiv8 Python For Data Science x GIT'"
      ]
     },
     "execution_count": 46,
     "metadata": {},
     "output_type": "execute_result"
    }
   ],
   "source": [
    "my_module.s"
   ]
  },
  {
   "cell_type": "code",
   "execution_count": 47,
   "metadata": {},
   "outputs": [
    {
     "name": "stdout",
     "output_type": "stream",
     "text": [
      "from module\n"
     ]
    }
   ],
   "source": [
    "my_module.printme('from module')"
   ]
  },
  {
   "cell_type": "code",
   "execution_count": 48,
   "metadata": {},
   "outputs": [
    {
     "data": {
      "text/plain": [
       "['In',\n",
       " 'Out',\n",
       " '_',\n",
       " '_24',\n",
       " '_27',\n",
       " '_30',\n",
       " '_34',\n",
       " '_36',\n",
       " '_40',\n",
       " '_44',\n",
       " '_46',\n",
       " '__',\n",
       " '___',\n",
       " '__builtin__',\n",
       " '__builtins__',\n",
       " '__doc__',\n",
       " '__loader__',\n",
       " '__name__',\n",
       " '__package__',\n",
       " '__spec__',\n",
       " '_dh',\n",
       " '_i',\n",
       " '_i1',\n",
       " '_i10',\n",
       " '_i11',\n",
       " '_i12',\n",
       " '_i13',\n",
       " '_i14',\n",
       " '_i15',\n",
       " '_i16',\n",
       " '_i17',\n",
       " '_i18',\n",
       " '_i19',\n",
       " '_i2',\n",
       " '_i20',\n",
       " '_i21',\n",
       " '_i22',\n",
       " '_i23',\n",
       " '_i24',\n",
       " '_i25',\n",
       " '_i26',\n",
       " '_i27',\n",
       " '_i28',\n",
       " '_i29',\n",
       " '_i3',\n",
       " '_i30',\n",
       " '_i31',\n",
       " '_i32',\n",
       " '_i33',\n",
       " '_i34',\n",
       " '_i35',\n",
       " '_i36',\n",
       " '_i37',\n",
       " '_i38',\n",
       " '_i39',\n",
       " '_i4',\n",
       " '_i40',\n",
       " '_i41',\n",
       " '_i42',\n",
       " '_i43',\n",
       " '_i44',\n",
       " '_i45',\n",
       " '_i46',\n",
       " '_i47',\n",
       " '_i48',\n",
       " '_i5',\n",
       " '_i6',\n",
       " '_i7',\n",
       " '_i8',\n",
       " '_i9',\n",
       " '_ih',\n",
       " '_ii',\n",
       " '_iii',\n",
       " '_oh',\n",
       " 'exit',\n",
       " 'get_ipython',\n",
       " 'jumlahHewan',\n",
       " 'jumlahHewanLain',\n",
       " 'jumlahKucing',\n",
       " 'luas',\n",
       " 'mod',\n",
       " 'my_module',\n",
       " 'printinfo',\n",
       " 'printme',\n",
       " 'quit',\n",
       " 's',\n",
       " 'string',\n",
       " 'sum',\n",
       " 'sys',\n",
       " 'varLuar',\n",
       " 'volume']"
      ]
     },
     "execution_count": 48,
     "metadata": {},
     "output_type": "execute_result"
    }
   ],
   "source": [
    "dir()"
   ]
  },
  {
   "cell_type": "code",
   "execution_count": 49,
   "metadata": {},
   "outputs": [],
   "source": [
    "import importlib"
   ]
  },
  {
   "cell_type": "code",
   "execution_count": 50,
   "metadata": {},
   "outputs": [
    {
     "data": {
      "text/plain": [
       "<module 'mod' from 'C:\\\\Users\\\\rakay\\\\Desktop\\\\Hacktiv8_Python\\\\mod.py'>"
      ]
     },
     "execution_count": 50,
     "metadata": {},
     "output_type": "execute_result"
    }
   ],
   "source": [
    "importlib.reload(mod)"
   ]
  },
  {
   "cell_type": "markdown",
   "metadata": {},
   "source": [
    "## Packages"
   ]
  },
  {
   "cell_type": "code",
   "execution_count": 51,
   "metadata": {},
   "outputs": [],
   "source": [
    "import pkg.mod1, pkg.mod2"
   ]
  },
  {
   "cell_type": "code",
   "execution_count": 52,
   "metadata": {},
   "outputs": [
    {
     "name": "stdout",
     "output_type": "stream",
     "text": [
      "[mod1] foo()\n"
     ]
    }
   ],
   "source": [
    "pkg.mod1.foo()"
   ]
  },
  {
   "cell_type": "code",
   "execution_count": 53,
   "metadata": {},
   "outputs": [
    {
     "name": "stdout",
     "output_type": "stream",
     "text": [
      "[mod2] bar()\n"
     ]
    }
   ],
   "source": [
    "pkg.mod2.bar()"
   ]
  },
  {
   "cell_type": "code",
   "execution_count": 54,
   "metadata": {},
   "outputs": [],
   "source": [
    "from pkg.mod1 import foo"
   ]
  },
  {
   "cell_type": "code",
   "execution_count": 55,
   "metadata": {},
   "outputs": [
    {
     "name": "stdout",
     "output_type": "stream",
     "text": [
      "[mod1] foo()\n"
     ]
    }
   ],
   "source": [
    "foo()"
   ]
  },
  {
   "cell_type": "code",
   "execution_count": 56,
   "metadata": {},
   "outputs": [],
   "source": [
    "from pkg.mod2 import bar as barAlias"
   ]
  },
  {
   "cell_type": "code",
   "execution_count": 57,
   "metadata": {},
   "outputs": [
    {
     "name": "stdout",
     "output_type": "stream",
     "text": [
      "[mod2] bar()\n"
     ]
    }
   ],
   "source": [
    "barAlias()"
   ]
  },
  {
   "cell_type": "code",
   "execution_count": 58,
   "metadata": {},
   "outputs": [],
   "source": [
    "from pkg import mod2 as mod2Alias"
   ]
  },
  {
   "cell_type": "code",
   "execution_count": 59,
   "metadata": {},
   "outputs": [
    {
     "name": "stdout",
     "output_type": "stream",
     "text": [
      "[mod2] bar()\n"
     ]
    }
   ],
   "source": [
    "mod2Alias.bar()"
   ]
  },
  {
   "cell_type": "code",
   "execution_count": 60,
   "metadata": {},
   "outputs": [
    {
     "name": "stdout",
     "output_type": "stream",
     "text": [
      "pip 21.0.1 from c:\\users\\rakay\\appdata\\local\\programs\\python\\python38\\lib\\site-packages\\pip (python 3.8)\n",
      "\n"
     ]
    },
    {
     "name": "stderr",
     "output_type": "stream",
     "text": [
      "The system cannot find the path specified.\n"
     ]
    }
   ],
   "source": [
    "!pip --version"
   ]
  },
  {
   "cell_type": "code",
   "execution_count": 61,
   "metadata": {
    "collapsed": true,
    "jupyter": {
     "outputs_hidden": true
    }
   },
   "outputs": [
    {
     "name": "stdout",
     "output_type": "stream",
     "text": [
      "\n",
      "Usage:   \n",
      "  pip <command> [options]\n",
      "\n",
      "Commands:\n",
      "  install                     Install packages.\n",
      "  download                    Download packages.\n",
      "  uninstall                   Uninstall packages.\n",
      "  freeze                      Output installed packages in requirements format.\n",
      "  list                        List installed packages.\n",
      "  show                        Show information about installed packages.\n",
      "  check                       Verify installed packages have compatible dependencies.\n",
      "  config                      Manage local and global configuration.\n",
      "  search                      Search PyPI for packages.\n",
      "  cache                       Inspect and manage pip's wheel cache.\n",
      "  wheel                       Build wheels from your requirements.\n",
      "  hash                        Compute hashes of package archives.\n",
      "  completion                  A helper command used for command completion.\n",
      "  debug                       Show information useful for debugging.\n",
      "  help                        Show help for commands.\n",
      "\n",
      "General Options:\n",
      "  -h, --help                  Show help.\n",
      "  --isolated                  Run pip in an isolated mode, ignoring\n",
      "                              environment variables and user configuration.\n",
      "  -v, --verbose               Give more output. Option is additive, and can be\n",
      "                              used up to 3 times.\n",
      "  -V, --version               Show version and exit.\n",
      "  -q, --quiet                 Give less output. Option is additive, and can be\n",
      "                              used up to 3 times (corresponding to WARNING,\n",
      "                              ERROR, and CRITICAL logging levels).\n",
      "  --log <path>                Path to a verbose appending log.\n",
      "  --no-input                  Disable prompting for input.\n",
      "  --proxy <proxy>             Specify a proxy in the form\n",
      "                              [user:passwd@]proxy.server:port.\n",
      "  --retries <retries>         Maximum number of retries each connection should\n",
      "                              attempt (default 5 times).\n",
      "  --timeout <sec>             Set the socket timeout (default 15 seconds).\n",
      "  --exists-action <action>    Default action when a path already exists:\n",
      "                              (s)witch, (i)gnore, (w)ipe, (b)ackup, (a)bort.\n",
      "  --trusted-host <hostname>   Mark this host or host:port pair as trusted,\n",
      "                              even though it does not have valid or any HTTPS.\n",
      "  --cert <path>               Path to alternate CA bundle.\n",
      "  --client-cert <path>        Path to SSL client certificate, a single file\n",
      "                              containing the private key and the certificate\n",
      "                              in PEM format.\n",
      "  --cache-dir <dir>           Store the cache data in <dir>.\n",
      "  --no-cache-dir              Disable the cache.\n",
      "  --disable-pip-version-check\n",
      "                              Don't periodically check PyPI to determine\n",
      "                              whether a new version of pip is available for\n",
      "                              download. Implied with --no-index.\n",
      "  --no-color                  Suppress colored output.\n",
      "  --no-python-version-warning\n",
      "                              Silence deprecation warnings for upcoming\n",
      "                              unsupported Pythons.\n",
      "  --use-feature <feature>     Enable new functionality, that may be backward\n",
      "                              incompatible.\n",
      "  --use-deprecated <feature>  Enable deprecated functionality, that will be\n",
      "                              removed in the future.\n"
     ]
    },
    {
     "name": "stderr",
     "output_type": "stream",
     "text": [
      "The system cannot find the path specified.\n"
     ]
    }
   ],
   "source": [
    "!pip help"
   ]
  },
  {
   "cell_type": "code",
   "execution_count": 62,
   "metadata": {},
   "outputs": [
    {
     "name": "stdout",
     "output_type": "stream",
     "text": [
      "Requirement already satisfied: numpy in c:\\users\\rakay\\appdata\\local\\programs\\python\\python38\\lib\\site-packages (1.19.3)\n"
     ]
    },
    {
     "name": "stderr",
     "output_type": "stream",
     "text": [
      "The system cannot find the path specified.\n"
     ]
    }
   ],
   "source": [
    "!pip install numpy"
   ]
  },
  {
   "cell_type": "code",
   "execution_count": 63,
   "metadata": {},
   "outputs": [
    {
     "name": "stdout",
     "output_type": "stream",
     "text": [
      "Requirement already satisfied: requests in c:\\users\\rakay\\appdata\\local\\programs\\python\\python38\\lib\\site-packages (2.25.0)\n",
      "Requirement already satisfied: certifi>=2017.4.17 in c:\\users\\rakay\\appdata\\local\\programs\\python\\python38\\lib\\site-packages (from requests) (2020.11.8)\n",
      "Requirement already satisfied: urllib3<1.27,>=1.21.1 in c:\\users\\rakay\\appdata\\local\\programs\\python\\python38\\lib\\site-packages (from requests) (1.26.2)\n",
      "Requirement already satisfied: chardet<4,>=3.0.2 in c:\\users\\rakay\\appdata\\local\\programs\\python\\python38\\lib\\site-packages (from requests) (3.0.4)\n",
      "Requirement already satisfied: idna<3,>=2.5 in c:\\users\\rakay\\appdata\\local\\programs\\python\\python38\\lib\\site-packages (from requests) (2.10)\n"
     ]
    },
    {
     "name": "stderr",
     "output_type": "stream",
     "text": [
      "The system cannot find the path specified.\n"
     ]
    }
   ],
   "source": [
    "!pip install requests"
   ]
  },
  {
   "cell_type": "code",
   "execution_count": 64,
   "metadata": {},
   "outputs": [
    {
     "name": "stdout",
     "output_type": "stream",
     "text": [
      "Package                       Version\n",
      "----------------------------- ------------\n",
      "-rotli                        1.0.9\n",
      "absl-py                       0.10.0\n",
      "alabaster                     0.7.12\n",
      "apache-beam                   2.23.0\n",
      "appnope                       0.1.0\n",
      "argon2-cffi                   20.1.0\n",
      "astunparse                    1.6.3\n",
      "async-generator               1.10\n",
      "attrs                         20.2.0\n",
      "autopep8                      1.5.4\n",
      "avro-python3                  1.10.0\n",
      "Babel                         2.9.0\n",
      "backcall                      0.2.0\n",
      "beautifulsoup4                4.9.3\n",
      "bleach                        3.1.5\n",
      "branca                        0.4.1\n",
      "Brotli                        1.0.9\n",
      "cachetools                    4.1.1\n",
      "certifi                       2020.11.8\n",
      "cffi                          1.14.2\n",
      "chardet                       3.0.4\n",
      "chart-studio                  1.1.0\n",
      "click                         7.1.2\n",
      "cmake                         3.18.4.post1\n",
      "colorama                      0.4.3\n",
      "confuse                       1.3.0\n",
      "contextlib2                   0.6.0.post1\n",
      "crcmod                        1.7\n",
      "cycler                        0.10.0\n",
      "Cython                        0.29.21\n",
      "dash                          1.17.0\n",
      "dash-auth                     1.4.1\n",
      "dash-bootstrap-components     0.10.7\n",
      "dash-core-components          1.13.0\n",
      "dash-html-components          1.1.1\n",
      "dash-renderer                 1.8.3\n",
      "dash-table                    4.11.0\n",
      "decorator                     4.4.2\n",
      "defusedxml                    0.6.0\n",
      "dill                          0.3.1.1\n",
      "dlib                          19.21.1\n",
      "docopt                        0.6.2\n",
      "docutils                      0.16\n",
      "entrypoints                   0.3\n",
      "fastavro                      0.23.6\n",
      "Flask                         1.1.2\n",
      "Flask-Compress                1.8.0\n",
      "Flask-SeaSurf                 0.2.2\n",
      "flatbuffers                   1.12\n",
      "folium                        0.11.0\n",
      "future                        0.18.2\n",
      "gast                          0.3.3\n",
      "gitdb                         4.0.5\n",
      "GitPython                     3.1.12\n",
      "google-auth                   1.21.1\n",
      "google-auth-oauthlib          0.4.1\n",
      "google-pasta                  0.2.0\n",
      "grpcio                        1.32.0\n",
      "gunicorn                      20.0.4\n",
      "h5py                          2.10.0\n",
      "hdfs                          2.5.8\n",
      "htmlmin                       0.1.12\n",
      "httplib2                      0.17.4\n",
      "idna                          2.10\n",
      "ImageHash                     4.1.0\n",
      "imageio                       2.9.0\n",
      "imagesize                     1.2.0\n",
      "importlib-metadata            3.4.0\n",
      "imutils                       0.5.3\n",
      "ipykernel                     5.3.4\n",
      "ipython                       7.19.0\n",
      "ipython-genutils              0.2.0\n",
      "ipywidgets                    7.5.1\n",
      "itsdangerous                  1.1.0\n",
      "jedi                          0.17.2\n",
      "Jinja2                        2.11.2\n",
      "joblib                        0.16.0\n",
      "json5                         0.9.5\n",
      "jsonschema                    3.2.0\n",
      "jupyter                       1.0.0\n",
      "jupyter-book                  0.10.0\n",
      "jupyter-cache                 0.4.2\n",
      "jupyter-client                6.1.7\n",
      "jupyter-console               6.2.0\n",
      "jupyter-core                  4.7.0\n",
      "jupyter-sphinx                0.3.1\n",
      "jupyterlab                    2.2.8\n",
      "jupyterlab-pygments           0.1.1\n",
      "jupyterlab-server             1.2.0\n",
      "jupytext                      1.8.2\n",
      "Keras-Preprocessing           1.1.2\n",
      "kiwisolver                    1.2.0\n",
      "latexcodec                    2.0.1\n",
      "linkify-it-py                 1.0.1\n",
      "llvmlite                      0.34.0\n",
      "lxml                          4.5.2\n",
      "Markdown                      3.2.2\n",
      "markdown-it-py                0.6.2\n",
      "MarkupSafe                    1.1.1\n",
      "matplotlib                    3.3.1\n",
      "mdit-py-plugins               0.2.5\n",
      "missingno                     0.4.2\n",
      "mistune                       0.8.4\n",
      "mock                          2.0.0\n",
      "myst-nb                       0.11.1\n",
      "myst-parser                   0.13.3\n",
      "nbclient                      0.5.0\n",
      "nbconvert                     5.6.1\n",
      "nbdime                        2.1.0\n",
      "nbformat                      5.0.7\n",
      "nest-asyncio                  1.4.0\n",
      "nested-lookup                 0.2.21\n",
      "networkx                      2.5\n",
      "notebook                      6.1.4\n",
      "numba                         0.51.2\n",
      "numpy                         1.19.3\n",
      "oauth2client                  3.0.0\n",
      "oauthlib                      3.1.0\n",
      "opencv-python                 4.4.0.42\n",
      "opt-einsum                    3.3.0\n",
      "packaging                     20.4\n",
      "pandas                        1.1.4\n",
      "pandas-profiling              2.9.0\n",
      "pandocfilters                 1.4.2\n",
      "parso                         0.7.1\n",
      "patsy                         0.5.1\n",
      "pbr                           5.5.0\n",
      "pexpect                       4.8.0\n",
      "phik                          0.10.0\n",
      "pickleshare                   0.7.5\n",
      "Pillow                        7.2.0\n",
      "pip                           21.0.1\n",
      "plotly                        4.12.0\n",
      "prometheus-client             0.8.0\n",
      "prompt-toolkit                3.0.8\n",
      "protobuf                      3.13.0\n",
      "ptyprocess                    0.6.0\n",
      "pyarrow                       0.17.1\n",
      "pyasn1                        0.4.8\n",
      "pyasn1-modules                0.2.8\n",
      "pybtex                        0.24.0\n",
      "pybtex-docutils               1.0.0\n",
      "pycodestyle                   2.6.0\n",
      "pycparser                     2.20\n",
      "pydata-sphinx-theme           0.4.3\n",
      "pydot                         1.4.1\n",
      "pydotplus                     2.0.2\n",
      "Pygments                      2.7.2\n",
      "pymongo                       3.11.0\n",
      "pyparsing                     2.4.7\n",
      "pyrsistent                    0.16.0\n",
      "python-dateutil               2.8.1\n",
      "pytz                          2020.4\n",
      "PyWavelets                    1.1.1\n",
      "pywin32                       228\n",
      "pywinpty                      0.5.7\n",
      "PyYAML                        5.3.1\n",
      "pyzmq                         20.0.0\n",
      "qtconsole                     4.7.7\n",
      "QtPy                          1.9.0\n",
      "requests                      2.25.0\n",
      "requests-oauthlib             1.3.0\n",
      "retrying                      1.3.3\n",
      "rsa                           4.6\n",
      "scikit-image                  0.17.2\n",
      "scikit-learn                  0.23.2\n",
      "scipy                         1.4.1\n",
      "seaborn                       0.10.1\n",
      "Send2Trash                    1.5.0\n",
      "setuptools                    47.1.0\n",
      "six                           1.15.0\n",
      "smmap                         3.0.5\n",
      "snowballstemmer               2.1.0\n",
      "soupsieve                     2.1\n",
      "Sphinx                        3.4.3\n",
      "sphinx-book-theme             0.0.39\n",
      "sphinx-comments               0.0.3\n",
      "sphinx-copybutton             0.3.1\n",
      "sphinx-panels                 0.5.2\n",
      "sphinx-thebe                  0.0.8\n",
      "sphinx-togglebutton           0.2.3\n",
      "sphinxcontrib-applehelp       1.0.2\n",
      "sphinxcontrib-bibtex          2.1.4\n",
      "sphinxcontrib-devhelp         1.0.2\n",
      "sphinxcontrib-htmlhelp        1.0.3\n",
      "sphinxcontrib-jsmath          1.0.1\n",
      "sphinxcontrib-qthelp          1.0.3\n",
      "sphinxcontrib-serializinghtml 1.1.4\n",
      "SQLAlchemy                    1.3.23\n",
      "statsmodels                   0.12.0\n",
      "tangled-up-in-unicode         0.0.6\n",
      "tensorboard                   2.4.0\n",
      "tensorboard-plugin-wit        1.7.0\n",
      "tensorflow                    2.4.0\n",
      "tensorflow-estimator          2.4.0\n",
      "termcolor                     1.1.0\n",
      "terminado                     0.8.3\n",
      "testpath                      0.4.4\n",
      "tf-slim                       1.1.0\n",
      "threadpoolctl                 2.1.0\n",
      "tifffile                      2020.11.26\n",
      "toml                          0.10.1\n",
      "tornado                       6.1\n",
      "tqdm                          4.49.0\n",
      "traitlets                     5.0.5\n",
      "typing-extensions             3.7.4.3\n",
      "ua-parser                     0.10.0\n",
      "uc-micro-py                   1.0.1\n",
      "urllib3                       1.26.2\n",
      "visions                       0.5.0\n",
      "wcwidth                       0.2.5\n",
      "webencodings                  0.5.1\n",
      "Werkzeug                      1.0.1\n",
      "wheel                         0.35.1\n",
      "widgetsnbextension            3.5.1\n",
      "wordcloud                     1.8.0\n",
      "wrapt                         1.12.1\n",
      "xlrd                          1.2.0\n",
      "zipp                          3.4.0\n"
     ]
    },
    {
     "name": "stderr",
     "output_type": "stream",
     "text": [
      "The system cannot find the path specified.\n"
     ]
    }
   ],
   "source": [
    "!pip list"
   ]
  },
  {
   "cell_type": "code",
   "execution_count": 65,
   "metadata": {},
   "outputs": [
    {
     "name": "stdout",
     "output_type": "stream",
     "text": [
      "Name: numpy\n",
      "Version: 1.19.3\n",
      "Summary: NumPy is the fundamental package for array computing with Python.\n",
      "Home-page: https://www.numpy.org\n",
      "Author: Travis E. Oliphant et al.\n",
      "Author-email: None\n",
      "License: BSD\n",
      "Location: c:\\users\\rakay\\appdata\\local\\programs\\python\\python38\\lib\\site-packages\n",
      "Requires: \n",
      "Required-by: wordcloud, visions, tifffile, tensorflow, tensorboard, statsmodels, seaborn, scipy, scikit-learn, scikit-image, PyWavelets, pyarrow, phik, patsy, pandas, pandas-profiling, opt-einsum, opencv-python, numba, missingno, matplotlib, Keras-Preprocessing, imageio, ImageHash, h5py, folium, apache-beam\n"
     ]
    },
    {
     "name": "stderr",
     "output_type": "stream",
     "text": [
      "The system cannot find the path specified.\n"
     ]
    }
   ],
   "source": [
    "!pip show numpy"
   ]
  },
  {
   "cell_type": "code",
   "execution_count": 66,
   "metadata": {},
   "outputs": [
    {
     "name": "stderr",
     "output_type": "stream",
     "text": [
      "The system cannot find the path specified.\n",
      "WARNING: Could not generate requirement for distribution -rotli 1.0.9 (c:\\users\\rakay\\appdata\\local\\programs\\python\\python38\\lib\\site-packages): Parse error at \"'-rotli=='\": Expected W:(abcd...)\n"
     ]
    }
   ],
   "source": [
    "!pip freeze > requirements.txt"
   ]
  },
  {
   "cell_type": "code",
   "execution_count": null,
   "metadata": {},
   "outputs": [],
   "source": []
  }
 ],
 "metadata": {
  "kernelspec": {
   "display_name": "Python 3.8.5 64-bit",
   "language": "python",
   "name": "python38564bit516bc9e2dc014a5d918eca2bb4f97e05"
  },
  "language_info": {
   "codemirror_mode": {
    "name": "ipython",
    "version": 3
   },
   "file_extension": ".py",
   "mimetype": "text/x-python",
   "name": "python",
   "nbconvert_exporter": "python",
   "pygments_lexer": "ipython3",
   "version": "3.8.5"
  }
 },
 "nbformat": 4,
 "nbformat_minor": 4
}
